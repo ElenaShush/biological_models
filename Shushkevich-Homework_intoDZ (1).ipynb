{
 "cells": [
  {
   "cell_type": "markdown",
   "metadata": {
    "id": "eqy3csyXxZZF"
   },
   "source": [
    "##1. Исследование числености популяции Юпитериан\n",
    "\n",
    "Известно, что у популяции наземных Юпитериан скорость рождения в популяции с низкой численностью зависит от частоты встреч одновременно четерех особей разных полов. При этом при высокой плотности популяции рождаемость определяется встречаемостью двух особей. Данную популяцию непрерывно выедают живущие там же подземные существа, количество которых необходимо принять за параметр U, а выедание пропорционально частоте встреч подземных существ с наземными. Кроме того наземные Юпитериане склонны к самопроизвольной смерти.\n"
   ]
  },
  {
   "cell_type": "markdown",
   "metadata": {
    "id": "vQJFTd8YhRwI"
   },
   "source": [
    "Так как у Юпитериан известно 4 пола, в формуле должно быть 4 уравнения для скорости роста популяции особей каждого пола. Обозначим их $x, y, z, w$. Так как никакой пол никак не выделен, то все уравнения будут выглядеть аналогично. Разберем построение уравнения для особей $x$, для остальных уравнений нужно будет только заменять обозначения переменных.\n",
    "\n",
    "Чтобы учесть скорость рождения в популяции при низкой численности, введем член $axyzw$, $a$ - коэффициент скорости рождаемости при низкой плотности, $xyzw$ отвечает за то, что скорость роста зависит от встречаемости особей всех четырех полов, если нет хотя бы одной особи любого пола, т.е. что-то из $x, y, z, w$ равно $0$, то и рост будет равен нулю.\n",
    "\n",
    "При высокой плотности скорость роста зависит от встречаемости особей двух полов, для особи пола $x$ нужно учесть встречи с особями пола $y, z, w$. Так как никакой пол не выделен, то и коэффициент скорости роста можно взять один. Это условие дает член $b(x^2y^2 + x^2z^2 + x^2w^2), т.к. при  $x → ∞$ скорость роста будет определяться членом с большей степенью.\n",
    "\n",
    "Выеданием особей подземными жителями зададим членом $-cUx$. Член, отвечающий за самопроизвольную смерть, по идее надо задать случайной переменной, но для упрощения примем, что скорость самопроизвольной смерти постоянна и равна $d$, тогда этот член будет $-d$\n",
    "\n"
   ]
  },
  {
   "cell_type": "markdown",
   "metadata": {
    "id": "iTVq_9oUNKDp"
   },
   "source": [
    "Итоговая система уравнений\n",
    "\n",
    "$$\n",
    "\\left\\{\n",
    "\\begin{aligned}\n",
    "\\frac{dx}{dt} &= axyzw + bx^2(y^2 +z^2 + w^2) - cUx - d \\\\\n",
    "\\frac{dy}{dt} &= axyzw + by^2(x^2 +z^2 + w^2) - cUy - d \\\\\n",
    "\\frac{dz}{dt} &= axyzw + bz^2(x^2 +y^2 + w^2) - cUz - d \\\\\n",
    "\\frac{dw}{dt} &= axyzw + bw^2(x^2 +y^2 + y^2) - cUw - d \\\\\n",
    "\\end{aligned}\n",
    "\\right.\n",
    "$$"
   ]
  },
  {
   "cell_type": "markdown",
   "metadata": {
    "id": "iTVq_9oUNKDp"
   },
   "source": [
    "Итоговая система уравнений (урежем)\n",
    "\n",
    "$$\n",
    "\\left\\{\n",
    "\\begin{aligned}\n",
    "\\frac{dx}{dt} &= axy + bx^2 y^2 - cUx - d \\\\\n",
    "\\frac{dy}{dt} &= axy + by^2 x^2 - cUy - d \\\\\n",
    "\\end{aligned}\n",
    "\\right.\n",
    "$$"
   ]
  },
  {
   "cell_type": "markdown",
   "metadata": {},
   "source": [
    "## Задание \n",
    "**Для конкретных параметров:**\n",
    "1. Находите симметричный корень (x=y) с помощью root_scalar\n",
    "2. Находите матрицу Якоби\n",
    "3. Находите собственные числа\n",
    "4. Подставляете в собственные числа root\n",
    "5. Делаете вывод об устойчивости\n",
    "6. Нарисовать фазовый портрет 2Д\n",
    "**Параметрический анализ**\n",
    "\n",
    "7.  Берете параметр d и делате анализ по шагам 1-4 в зависимости от d. "
   ]
  },
  {
   "cell_type": "markdown",
   "metadata": {
    "id": "7v_BbCYeSodL"
   },
   "source": [
    "Система уравнений получилась нелинейная, мне пока не хватает знаний для того, чтобы исследовать ее."
   ]
  },
  {
   "cell_type": "markdown",
   "metadata": {},
   "source": [
    "$$ (x_1, y_1, z_1, w_1) $$"
   ]
  },
  {
   "cell_type": "markdown",
   "metadata": {},
   "source": [
    "$$ (y_1, x_1, z_1, w_1) $$"
   ]
  },
  {
   "cell_type": "markdown",
   "metadata": {},
   "source": [
    "$$ 0 = axyzw + bx^2(y^2 +z^2 + w^2) - cUx - d  $$"
   ]
  },
  {
   "cell_type": "markdown",
   "metadata": {},
   "source": [
    "$$ 0 = ayxzw + by^2(x^2 +z^2 + w^2) - cUy - d  $$"
   ]
  },
  {
   "cell_type": "markdown",
   "metadata": {},
   "source": [
    "$$ b(x^2-y^2)(y^2 - x^2) - cU(x-y) = 0 $$"
   ]
  },
  {
   "cell_type": "markdown",
   "metadata": {},
   "source": [
    "$$ -b(x^2 - y^2)^2 = cU (x-y) $$"
   ]
  },
  {
   "cell_type": "markdown",
   "metadata": {},
   "source": [
    "$$ -b(x-y)^2(x+y)^2 = cU (x-y) $$"
   ]
  },
  {
   "cell_type": "markdown",
   "metadata": {},
   "source": [
    "$$ (x-y)(x+y)^2 = -cU/b $$"
   ]
  },
  {
   "cell_type": "markdown",
   "metadata": {},
   "source": [
    "*... можно подумать ...*"
   ]
  },
  {
   "cell_type": "markdown",
   "metadata": {},
   "source": [
    "$$ 0 = (a+b) x^4 - cUx - d  $$"
   ]
  },
  {
   "cell_type": "code",
   "execution_count": 13,
   "metadata": {},
   "outputs": [],
   "source": [
    "import scipy.optimize as opt\n",
    "import numpy as np\n",
    "import matplotlib.pyplot as plt"
   ]
  },
  {
   "cell_type": "code",
   "execution_count": 20,
   "metadata": {},
   "outputs": [],
   "source": [
    "a = 2\n",
    "b = 2\n",
    "c = 3\n",
    "U = 10\n",
    "d = 1\n",
    "fun = lambda x: (a+b)*x**4 - c*U*x - d\n",
    "res = opt.root_scalar(fun, x0 = 10, method='brentq', bracket=(0,20) )"
   ]
  },
  {
   "cell_type": "code",
   "execution_count": 21,
   "metadata": {},
   "outputs": [
    {
     "data": {
      "text/plain": [
       "1.9684211234686944"
      ]
     },
     "execution_count": 21,
     "metadata": {},
     "output_type": "execute_result"
    }
   ],
   "source": [
    "res.root"
   ]
  },
  {
   "cell_type": "code",
   "execution_count": 18,
   "metadata": {},
   "outputs": [
    {
     "data": {
      "text/plain": [
       "(-25.0, 25.0)"
      ]
     },
     "execution_count": 18,
     "metadata": {},
     "output_type": "execute_result"
    },
    {
     "data": {
      "image/png": "[encoded data removed]",
      "text/plain": [
       "<Figure size 432x288 with 1 Axes>"
      ]
     },
     "metadata": {
      "needs_background": "light"
     },
     "output_type": "display_data"
    }
   ],
   "source": [
    "xx = np.linspace(0,20, 1000)\n",
    "plt.plot(xx, fun(xx))\n",
    "plt.ylim(-25,25)"
   ]
  },
  {
   "cell_type": "code",
   "execution_count": null,
   "metadata": {},
   "outputs": [],
   "source": [
    "x* = y* = a"
   ]
  },
  {
   "cell_type": "code",
   "execution_count": null,
   "metadata": {},
   "outputs": [],
   "source": []
  },
  {
   "cell_type": "markdown",
   "metadata": {
    "id": "4N_ysmkySe1u",
    "tags": []
   },
   "source": [
    "## Исследование численности популяции песчаной форели\n",
    "\n",
    "Для того, чтобы провести экологическую трансформацию Аракиса, Лето второй инициировал планомерное уничтожение песчаной форели. Примите, что форель не размножается, а продуцируется песчанными червями с постоянной скоростью. Уничтожение песчаной форели производится в местах ее скоплений, вероятность встречи с которыми пропорциональна третьей степени количества форелей. Форель способна делиться почкованием. Постройте модель динамики численности песчаной форели."
   ]
  },
  {
   "cell_type": "markdown",
   "metadata": {
    "id": "DrjamfRsS0OP"
   },
   "source": [
    "Примем численность песчаной форели за $x$. Тогда нужно построить дифференциальное уравнений $dx/dt$. \n",
    "\n",
    "Так как песчаная форель продуцируется с постоянной скоростью, один из членов уравнения будет $r$, который равен скорости продуцирования. \n",
    "\n",
    "Член, отвечающий за уничтожение, равен $-ax^3$\n",
    "\n",
    "Так как форель способна делиться почкованием, нужно добавить член, зависящий от $x$, то есть $bx$"
   ]
  },
  {
   "cell_type": "markdown",
   "metadata": {
    "id": "95twcguTTsAs"
   },
   "source": [
    "Итоговая модель \n",
    "\n",
    "$$ \\frac{dx}{dt} = r + bx - ax^3 $$\n",
    "\n",
    "Чтобы уменьшить количество параметров, проведем замену переменных:\n",
    "\n",
    "$$\n",
    "y =  \\frac{x}{r} \\\\\n",
    "K = ar^2 \\\\\n",
    "\\frac{dy}{dt} = 1 + by - Ky^3 \n",
    "$$"
   ]
  }
 ],
 "metadata": {
  "colab": {
   "provenance": []
  },
  "kernelspec": {
   "display_name": "Python 3 (ipykernel)",
   "language": "python",
   "name": "python3"
  },
  "language_info": {
   "codemirror_mode": {
    "name": "ipython",
    "version": 3
   },
   "file_extension": ".py",
   "mimetype": "text/x-python",
   "name": "python",
   "nbconvert_exporter": "python",
   "pygments_lexer": "ipython3",
   "version": "3.8.12"
  }
 },
 "nbformat": 4,
 "nbformat_minor": 4
}
