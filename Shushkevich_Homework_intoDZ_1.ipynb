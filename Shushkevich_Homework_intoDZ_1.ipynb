{
  "cells": [
    {
      "cell_type": "markdown",
      "metadata": {
        "id": "eqy3csyXxZZF"
      },
      "source": [
        "##1. Исследование числености популяции Юпитериан\n",
        "\n",
        "Известно, что у популяции наземных Юпитериан скорость рождения в популяции с низкой численностью зависит от частоты встреч одновременно четерех особей разных полов. При этом при высокой плотности популяции рождаемость определяется встречаемостью двух особей. Данную популяцию непрерывно выедают живущие там же подземные существа, количество которых необходимо принять за параметр U, а выедание пропорционально частоте встреч подземных существ с наземными. Кроме того наземные Юпитериане склонны к самопроизвольной смерти.\n"
      ]
    },
    {
      "cell_type": "markdown",
      "metadata": {
        "id": "vQJFTd8YhRwI"
      },
      "source": [
        "Так как у Юпитериан известно 4 пола, в формуле должно быть 4 уравнения для скорости роста популяции особей каждого пола. Обозначим их $x, y, z, w$. Так как никакой пол никак не выделен, то все уравнения будут выглядеть аналогично. Разберем построение уравнения для особей $x$, для остальных уравнений нужно будет только заменять обозначения переменных.\n",
        "\n",
        "Чтобы учесть скорость рождения в популяции при низкой численности, введем член $axyzw$, $a$ - коэффициент скорости рождаемости при низкой плотности, $xyzw$ отвечает за то, что скорость роста зависит от встречаемости особей всех четырех полов, если нет хотя бы одной особи любого пола, т.е. что-то из $x, y, z, w$ равно $0$, то и рост будет равен нулю.\n",
        "\n",
        "При высокой плотности скорость роста зависит от встречаемости особей двух полов, для особи пола $x$ нужно учесть встречи с особями пола $y, z, w$. Так как никакой пол не выделен, то и коэффициент скорости роста можно взять один. Это условие дает член $b(x^2y^2 + x^2z^2 + x^2w^2), т.к. при  $x → ∞$ скорость роста будет определяться членом с большей степенью.\n",
        "\n",
        "Выеданием особей подземными жителями зададим членом $-cUx$. Член, отвечающий за самопроизвольную смерть, по идее надо задать случайной переменной, но для упрощения примем, что скорость самопроизвольной смерти постоянна и равна $d$, тогда этот член будет $-d$\n",
        "\n"
      ]
    },
    {
      "cell_type": "markdown",
      "metadata": {
        "id": "iTVq_9oUNKDp"
      },
      "source": [
        "Итоговая система уравнений\n",
        "\n",
        "$$\n",
        "\\left\\{\n",
        "\\begin{aligned}\n",
        "\\frac{dx}{dt} &= axyzw + bx^2(y^2 +z^2 + w^2) - cUx - d \\\\\n",
        "\\frac{dy}{dt} &= axyzw + by^2(x^2 +z^2 + w^2) - cUy - d \\\\\n",
        "\\frac{dz}{dt} &= axyzw + bz^2(x^2 +y^2 + w^2) - cUz - d \\\\\n",
        "\\frac{dw}{dt} &= axyzw + bw^2(x^2 +y^2 + y^2) - cUw - d \\\\\n",
        "\\end{aligned}\n",
        "\\right.\n",
        "$$"
      ]
    },
    {
      "cell_type": "markdown",
      "metadata": {
        "id": "AHuYrgj6lxYO"
      },
      "source": [
        "## Задание \n",
        "**Для конкретных параметров:**\n",
        "1. Находите симметричный корень (x=y) с помощью root_scalar\n",
        "2. Находите матрицу Якоби\n",
        "3. Находите собственные числа\n",
        "4. Подставляете в собственные числа root\n",
        "5. Делаете вывод об устойчивости\n",
        "6. Нарисовать фазовый портрет 2Д\n",
        "**Параметрический анализ**\n",
        "\n",
        "7.  Берете параметр d и делате анализ по шагам 1-4 в зависимости от d. "
      ]
    },
    {
      "cell_type": "markdown",
      "metadata": {
        "id": "7v_BbCYeSodL"
      },
      "source": [
        "Система уравнений получилась нелинейная, мне пока не хватает знаний для того, чтобы исследовать ее."
      ]
    },
    {
      "cell_type": "markdown",
      "metadata": {
        "id": "3Ksi8lcvlxYP"
      },
      "source": [
        "$$ (x_1, y_1, z_1, w_1) $$"
      ]
    },
    {
      "cell_type": "markdown",
      "metadata": {
        "id": "Ffn7_MawlxYP"
      },
      "source": [
        "$$ (y_1, x_1, z_1, w_1) $$"
      ]
    },
    {
      "cell_type": "markdown",
      "metadata": {
        "id": "owsS7YeSlxYP"
      },
      "source": [
        "$$ 0 = axyzw + bx^2(y^2 +z^2 + w^2) - cUx - d  $$"
      ]
    },
    {
      "cell_type": "markdown",
      "metadata": {
        "id": "kmJuVLSKlxYQ"
      },
      "source": [
        "$$ 0 = ayxzw + by^2(x^2 +z^2 + w^2) - cUy - d  $$"
      ]
    },
    {
      "cell_type": "markdown",
      "metadata": {
        "id": "C1WuwwO1lxYQ"
      },
      "source": [
        "$$ b(x^2-y^2)(y^2 - x^2) - cU(x-y) = 0 $$"
      ]
    },
    {
      "cell_type": "markdown",
      "metadata": {
        "id": "PeGWFdFGlxYQ"
      },
      "source": [
        "$$ -b(x^2 - y^2)^2 = cU (x-y) $$"
      ]
    },
    {
      "cell_type": "markdown",
      "metadata": {
        "id": "mGVu0OsxlxYR"
      },
      "source": [
        "$$ -b(x-y)^2(x+y)^2 = cU (x-y) $$"
      ]
    },
    {
      "cell_type": "markdown",
      "metadata": {
        "id": "oaahemP2lxYR"
      },
      "source": [
        "$$ (x-y)(x+y)^2 = -cU/b $$"
      ]
    },
    {
      "cell_type": "markdown",
      "metadata": {
        "id": "SIsG1j-AlxYR"
      },
      "source": [
        "*... можно подумать ...*"
      ]
    },
    {
      "cell_type": "markdown",
      "metadata": {
        "id": "p3pZY-qFlxYR"
      },
      "source": [
        "$$ 0 = (a+b) x^4 - cUx - d  $$"
      ]
    },
    {
      "cell_type": "markdown",
      "metadata": {
        "id": "46--YF02lxYO"
      },
      "source": [
        "Итоговая система уравнений (урежем)\n",
        "\n",
        "$$\n",
        "\\left\\{\n",
        "\\begin{aligned}\n",
        "\\frac{dx}{dt} &= axy + bx^2 y^2 - cUx - d \\\\\n",
        "\\frac{dy}{dt} &= axy + by^2 x^2 - cUy - d \\\\\n",
        "\\end{aligned}\n",
        "\\right.\n",
        "$$"
      ]
    },
    {
      "cell_type": "code",
      "execution_count": 27,
      "metadata": {
        "id": "YMjyCAYflxYR"
      },
      "outputs": [],
      "source": [
        "import scipy.optimize as opt\n",
        "import numpy as np\n",
        "import sympy as sym\n",
        "\n",
        "from IPython.display import display, Latex\n",
        "\n",
        "import matplotlib.pyplot as plt\n",
        "\n",
        "from scipy.integrate import odeint"
      ]
    },
    {
      "cell_type": "code",
      "execution_count": 30,
      "metadata": {
        "id": "0AWZp2cWlxYS"
      },
      "outputs": [],
      "source": [
        "a = 2\n",
        "b = 2\n",
        "c = 3\n",
        "U = 10\n",
        "d = 1"
      ]
    },
    {
      "cell_type": "code",
      "source": [
        "fun = lambda x: a*x**2 + b*x**4 - c*U*x - d\n"
      ],
      "metadata": {
        "id": "ktuLu5fNmrPj"
      },
      "execution_count": 32,
      "outputs": []
    },
    {
      "cell_type": "code",
      "source": [
        "res = opt.root_scalar(fun, x0 = 10, method='brentq', bracket=(0,20) )"
      ],
      "metadata": {
        "id": "QO9yXDT7naGO"
      },
      "execution_count": 33,
      "outputs": []
    },
    {
      "cell_type": "code",
      "execution_count": 34,
      "metadata": {
        "id": "cNWO5R0llxYT",
        "outputId": "222374e3-e409-4694-fbdd-c0a1499bb68b",
        "colab": {
          "base_uri": "https://localhost:8080/"
        }
      },
      "outputs": [
        {
          "output_type": "execute_result",
          "data": {
            "text/plain": [
              "2.3434642651090423"
            ]
          },
          "metadata": {},
          "execution_count": 34
        }
      ],
      "source": [
        "res.root"
      ]
    },
    {
      "cell_type": "code",
      "execution_count": 35,
      "metadata": {
        "id": "mSZ25g0ClxYU",
        "outputId": "cc69d9fa-36bd-4681-f79c-8c7a7ca8ab38",
        "colab": {
          "base_uri": "https://localhost:8080/",
          "height": 282
        }
      },
      "outputs": [
        {
          "output_type": "execute_result",
          "data": {
            "text/plain": [
              "(-25.0, 25.0)"
            ]
          },
          "metadata": {},
          "execution_count": 35
        },
        {
          "output_type": "display_data",
          "data": {
            "text/plain": [
              "<Figure size 432x288 with 1 Axes>"
            ],
            "image/png": "[encoded data removed]"
          },
          "metadata": {
            "needs_background": "light"
          }
        }
      ],
      "source": [
        "xx = np.linspace(0,20, 1000)\n",
        "plt.plot(xx, fun(xx))\n",
        "plt.ylim(-25,25)"
      ]
    },
    {
      "cell_type": "code",
      "source": [
        "def display2Deq(eq1, eq2):\n",
        "    s = \\\n",
        "    r'''$$\n",
        "    \\left\\{\n",
        "    \\begin{aligned}\n",
        "        %s \\\\\n",
        "        %s\n",
        "    \\end{aligned}\n",
        "    \\right.\n",
        "    $$''' % (sym.latex(eq1).replace('=','&='), sym.latex(eq2).replace('=','&='))\n",
        "    display(Latex(s))"
      ],
      "metadata": {
        "id": "dce8M27-mRS6"
      },
      "execution_count": 36,
      "outputs": []
    },
    {
      "cell_type": "code",
      "source": [
        "x, y, x0, y0, U, d, t = sym.symbols(\"x,y,x0,y0,U,d,t\")\n",
        "x = sym.Function(\"x\")(t)\n",
        "y = sym.Function(\"y\")(t)"
      ],
      "metadata": {
        "id": "LjdWDAEumyk1"
      },
      "execution_count": 48,
      "outputs": []
    },
    {
      "cell_type": "code",
      "source": [
        "x_rate = a*x*y + b*x**2*y**2 - c*U*x - d\n",
        "y_rate = a*x*y + b*x**2*y**2 - c*U*y - d\n",
        "\n",
        "eq1 = sym.Eq(x.diff(t), x_rate)\n",
        "eq2 = sym.Eq(y.diff(t), y_rate)\n",
        "\n",
        "display2Deq(eq1, eq2)"
      ],
      "metadata": {
        "colab": {
          "base_uri": "https://localhost:8080/",
          "height": 98
        },
        "id": "ly5ixvjNmaEO",
        "outputId": "19236f90-4f7a-4d2a-8fa2-b71fe724e468"
      },
      "execution_count": 46,
      "outputs": [
        {
          "output_type": "display_data",
          "data": {
            "text/plain": [
              "<IPython.core.display.Latex object>"
            ],
            "text/latex": "$$\n    \\left\\{\n    \\begin{aligned}\n        \\frac{d}{d t} x{\\left(t \\right)} &= - 3 U x{\\left(t \\right)} - d + 2 x^{2}{\\left(t \\right)} y^{2}{\\left(t \\right)} + 2 x{\\left(t \\right)} y{\\left(t \\right)} \\\\\n        \\frac{d}{d t} y{\\left(t \\right)} &= - 3 U y{\\left(t \\right)} - d + 2 x^{2}{\\left(t \\right)} y^{2}{\\left(t \\right)} + 2 x{\\left(t \\right)} y{\\left(t \\right)}\n    \\end{aligned}\n    \\right.\n    $$"
          },
          "metadata": {}
        }
      ]
    },
    {
      "cell_type": "code",
      "execution_count": 47,
      "metadata": {
        "colab": {
          "base_uri": "https://localhost:8080/",
          "height": 58
        },
        "id": "FeqkwQMKlxYU",
        "outputId": "9eed8d5e-a900-4510-d078-c639b25bbebf"
      },
      "outputs": [
        {
          "output_type": "display_data",
          "data": {
            "text/plain": [
              "Matrix([\n",
              "[-3*U + 4*x(t)*y(t)**2 + 2*y(t),        4*x(t)**2*y(t) + 2*x(t)],\n",
              "[       4*x(t)*y(t)**2 + 2*y(t), -3*U + 4*x(t)**2*y(t) + 2*x(t)]])"
            ],
            "text/latex": "$\\displaystyle \\left[\\begin{matrix}- 3 U + 4 x{\\left(t \\right)} y^{2}{\\left(t \\right)} + 2 y{\\left(t \\right)} & 4 x^{2}{\\left(t \\right)} y{\\left(t \\right)} + 2 x{\\left(t \\right)}\\\\4 x{\\left(t \\right)} y^{2}{\\left(t \\right)} + 2 y{\\left(t \\right)} & - 3 U + 4 x^{2}{\\left(t \\right)} y{\\left(t \\right)} + 2 x{\\left(t \\right)}\\end{matrix}\\right]$"
          },
          "metadata": {}
        }
      ],
      "source": [
        "J = sym.Matrix([x_rate, y_rate]).jacobian(sym.Matrix([x, y]))\n",
        "display(J)"
      ]
    },
    {
      "cell_type": "code",
      "execution_count": 61,
      "metadata": {
        "colab": {
          "base_uri": "https://localhost:8080/",
          "height": 39
        },
        "id": "8HbNiyBAlxYU",
        "outputId": "f3a7e7ba-d629-4d7a-ac94-3ae762309d13"
      },
      "outputs": [
        {
          "output_type": "display_data",
          "data": {
            "text/plain": [
              "-3*U + 4*x(t)**2*y(t) + 4*x(t)*y(t)**2 + 2*x(t) + 2*y(t)"
            ],
            "text/latex": "$\\displaystyle - 3 U + 4 x^{2}{\\left(t \\right)} y{\\left(t \\right)} + 4 x{\\left(t \\right)} y^{2}{\\left(t \\right)} + 2 x{\\left(t \\right)} + 2 y{\\left(t \\right)}$"
          },
          "metadata": {}
        }
      ],
      "source": [
        "J.eigenvects()\n",
        "display(J.eigenvects()[1][0])"
      ]
    },
    {
      "cell_type": "code",
      "source": [
        "import inspect\n",
        "inspect.getsource(lam1)"
      ],
      "metadata": {
        "colab": {
          "base_uri": "https://localhost:8080/",
          "height": 36
        },
        "id": "Qn0XAemErGW7",
        "outputId": "f43f2df0-0709-40fc-c424-6daa2af7f20f"
      },
      "execution_count": 62,
      "outputs": [
        {
          "output_type": "execute_result",
          "data": {
            "text/plain": [
              "'def _lambdifygenerated(U):\\n    return (-3*real(U) + 4*real(x(t)*y(t)**2) + 4*real(x(t)**2*y(t)) + 2*real(x(t)) + 2*real(y(t)))\\n'"
            ],
            "application/vnd.google.colaboratory.intrinsic+json": {
              "type": "string"
            }
          },
          "metadata": {},
          "execution_count": 62
        }
      ]
    },
    {
      "cell_type": "code",
      "source": [
        "xr = yr = res.root\n",
        "x1 = y1 = res.root\n",
        "lam0 = sym.lambdify(U, sym.re(J.eigenvects()[0][0]) )\n",
        "lam1 = lambda x1, y1, U: -3*U + 4*x1**2*y1 + 4*x1*y1**2 + 2*x1 + 2*y1\n",
        "\n",
        "uu = np.linspace(-5,5,100)\n",
        "plt.plot(uu, lam0(uu))\n",
        "plt.plot(uu, lam1(xr, yr, uu))\n",
        "plt.xlabel(\"u\")\n",
        "plt.ylabel(\"eigenvalue\")\n",
        "plt.axhline(0, -4, 4, color=\"grey\", linestyle=\"--\")\n",
        "plt.show()"
      ],
      "metadata": {
        "id": "IoNXA7oJn-vM",
        "colab": {
          "base_uri": "https://localhost:8080/",
          "height": 279
        },
        "outputId": "2fcaec93-9293-49aa-f049-f6d81f23b0bc"
      },
      "execution_count": 63,
      "outputs": [
        {
          "output_type": "display_data",
          "data": {
            "text/plain": [
              "<Figure size 432x288 with 1 Axes>"
            ],
            "image/png": "[encoded data removed]"
          },
          "metadata": {
            "needs_background": "light"
          }
        }
      ]
    },
    {
      "cell_type": "code",
      "source": [],
      "metadata": {
        "id": "fI3re2t1tRYj"
      },
      "execution_count": null,
      "outputs": []
    },
    {
      "cell_type": "markdown",
      "metadata": {
        "id": "4N_ysmkySe1u",
        "tags": []
      },
      "source": [
        "## Исследование численности популяции песчаной форели\n",
        "\n",
        "Для того, чтобы провести экологическую трансформацию Аракиса, Лето второй инициировал планомерное уничтожение песчаной форели. Примите, что форель не размножается, а продуцируется песчанными червями с постоянной скоростью. Уничтожение песчаной форели производится в местах ее скоплений, вероятность встречи с которыми пропорциональна третьей степени количества форелей. Форель способна делиться почкованием. Постройте модель динамики численности песчаной форели."
      ]
    },
    {
      "cell_type": "markdown",
      "metadata": {
        "id": "DrjamfRsS0OP"
      },
      "source": [
        "Примем численность песчаной форели за $x$. Тогда нужно построить дифференциальное уравнений $dx/dt$. \n",
        "\n",
        "Так как песчаная форель продуцируется с постоянной скоростью, один из членов уравнения будет $r$, который равен скорости продуцирования. \n",
        "\n",
        "Член, отвечающий за уничтожение, равен $-ax^3$\n",
        "\n",
        "Так как форель способна делиться почкованием, нужно добавить член, зависящий от $x$, то есть $bx$"
      ]
    },
    {
      "cell_type": "markdown",
      "metadata": {
        "id": "95twcguTTsAs"
      },
      "source": [
        "Итоговая модель \n",
        "\n",
        "$$ \\frac{dx}{dt} = r + bx - ax^3 $$\n",
        "\n",
        "Чтобы уменьшить количество параметров, проведем замену переменных:\n",
        "\n",
        "$$\n",
        "y =  \\frac{x}{r} \\\\\n",
        "K = ar^2 \\\\\n",
        "\\frac{dy}{dt} = 1 + by - Ky^3 \n",
        "$$"
      ]
    }
  ],
  "metadata": {
    "colab": {
      "provenance": []
    },
    "kernelspec": {
      "display_name": "Python 3 (ipykernel)",
      "language": "python",
      "name": "python3"
    },
    "language_info": {
      "codemirror_mode": {
        "name": "ipython",
        "version": 3
      },
      "file_extension": ".py",
      "mimetype": "text/x-python",
      "name": "python",
      "nbconvert_exporter": "python",
      "pygments_lexer": "ipython3",
      "version": "3.8.12"
    }
  },
  "nbformat": 4,
  "nbformat_minor": 0
}