{
  "nbformat": 4,
  "nbformat_minor": 0,
  "metadata": {
    "colab": {
      "provenance": []
    },
    "kernelspec": {
      "name": "python3",
      "display_name": "Python 3"
    },
    "language_info": {
      "name": "python"
    }
  },
  "cells": [
    {
      "cell_type": "code",
      "execution_count": 63,
      "metadata": {
        "id": "A5Rz2WOUsKGf"
      },
      "outputs": [],
      "source": [
        "import numpy as np\n",
        "import scipy as sc\n",
        "import scipy.integrate as slv\n",
        "import matplotlib.pyplot as plt\n",
        "from matplotlib.lines import Line2D\n"
      ]
    },
    {
      "cell_type": "markdown",
      "source": [
        "## Дискретная модель\n",
        "\n",
        "xn+1 = rxn ln(xn=K) + xn\n",
        "\n",
        "Модель задается уравнением\n",
        "\n",
        "$$\n",
        "x_{n+1} = rx_n ln(\\frac{x_n}{K}) + x_n\n",
        "$$\n",
        "\n",
        "Найдем стационарные точки из условия $x_{n+1} = x_n$\n",
        "\n",
        "$$\n",
        "x_{n} = rx_n ln(\\frac{x_n}{K}) + x_n \\\\\n",
        "rx_n ln(\\frac{x_n}{K}) = 0 \\\\\n",
        "$$\n",
        "\n",
        "Тривиальное решение:\n",
        "$$ x_n = 0$$\n",
        "\n",
        "Второе решение:\n",
        "$$\n",
        "ln(\\frac{x_n}{K}) = 0 \\\\\n",
        "\\frac{x_n}{K} = 1 \\\\\n",
        "x_n = K\n",
        "$$\n",
        "Итак, эта модель имеет две стационарные точки 0 и K, вторая зависит от параметра K.\n",
        "\n",
        "\n"
      ],
      "metadata": {
        "id": "i3k1yWTBsM03"
      }
    },
    {
      "cell_type": "markdown",
      "source": [
        "У этой модели есть ограничение, значение под знаком логорифма должно быть больше 0, поэтому $x_n > 0 $"
      ],
      "metadata": {
        "id": "QaKNkWQ9v2H0"
      }
    },
    {
      "cell_type": "code",
      "source": [
        "r = 1\n",
        "K = 10\n",
        "fu = lambda x,r,K: x*(r*np.log(x/K)+1)\n",
        "\n",
        "for x0 in [12, 14, 15]:\n",
        "    xn = [x0]\n",
        "    tt = [0]\n",
        "\n",
        "    for i in range(10):\n",
        "        tt.append(i)\n",
        "        xn.append(fu(xn[-1], r, K))\n",
        "\n",
        "    plt.plot(tt, xn, label=(f\"x0 = {x0}\"))\n",
        "plt.legend()\n",
        "\n",
        "axes = plt.gca()\n",
        "#axes.set_aspect(\"equal\")\n",
        "\n",
        "line = Line2D([0, 0], [4, 4], color=\"k\")\n",
        "axes.add_line(line)\n",
        "plt.show()\n",
        "None"
      ],
      "metadata": {
        "colab": {
          "base_uri": "https://localhost:8080/",
          "height": 276
        },
        "id": "2jlOKoh2txIm",
        "outputId": "f5e87d68-371f-4e99-cf1c-2a71f52294f4"
      },
      "execution_count": null,
      "outputs": [
        {
          "output_type": "display_data",
          "data": {
            "text/plain": [
              "<Figure size 432x288 with 1 Axes>"
            ],
            "image/png": "[encoded data removed]"
          },
          "metadata": {
            "needs_background": "light"
          }
        }
      ]
    },
    {
      "cell_type": "markdown",
      "source": [
        "Варьируем K"
      ],
      "metadata": {
        "id": "J9lghN50xh_B"
      }
    },
    {
      "cell_type": "code",
      "source": [
        "r = 1\n",
        "x0 = 10\n",
        "\n",
        "for K in [2, 4, 6, 8]:\n",
        "    xn = [x0]\n",
        "    tt = [0]\n",
        "\n",
        "    for i in range(10):\n",
        "        tt.append(i)\n",
        "        xn.append(fu(xn[-1], r, K))\n",
        "\n",
        "    plt.plot(tt, xn, label=(f\"K = {K}\"))\n",
        "plt.legend()\n",
        "plt.plot(0, 0, 1.75, 1.75, marker = 'o')\n",
        "#plt.ylim(0,8)\n",
        "#plt.xlim(0, 25)\n",
        "None"
      ],
      "metadata": {
        "colab": {
          "base_uri": "https://localhost:8080/",
          "height": 235
        },
        "id": "aYCqgd3WxgzS",
        "outputId": "671d0ff7-11f5-406c-a1e2-360cf8effbe3"
      },
      "execution_count": null,
      "outputs": [
        {
          "output_type": "error",
          "ename": "NameError",
          "evalue": "ignored",
          "traceback": [
            "\u001b[0;31m---------------------------------------------------------------------------\u001b[0m",
            "\u001b[0;31mNameError\u001b[0m                                 Traceback (most recent call last)",
            "\u001b[0;32m<ipython-input-2-44f7cc497630>\u001b[0m in \u001b[0;36m<module>\u001b[0;34m\u001b[0m\n\u001b[1;32m      8\u001b[0m     \u001b[0;32mfor\u001b[0m \u001b[0mi\u001b[0m \u001b[0;32min\u001b[0m \u001b[0mrange\u001b[0m\u001b[0;34m(\u001b[0m\u001b[0;36m10\u001b[0m\u001b[0;34m)\u001b[0m\u001b[0;34m:\u001b[0m\u001b[0;34m\u001b[0m\u001b[0;34m\u001b[0m\u001b[0m\n\u001b[1;32m      9\u001b[0m         \u001b[0mtt\u001b[0m\u001b[0;34m.\u001b[0m\u001b[0mappend\u001b[0m\u001b[0;34m(\u001b[0m\u001b[0mi\u001b[0m\u001b[0;34m)\u001b[0m\u001b[0;34m\u001b[0m\u001b[0;34m\u001b[0m\u001b[0m\n\u001b[0;32m---> 10\u001b[0;31m         \u001b[0mxn\u001b[0m\u001b[0;34m.\u001b[0m\u001b[0mappend\u001b[0m\u001b[0;34m(\u001b[0m\u001b[0mfu\u001b[0m\u001b[0;34m(\u001b[0m\u001b[0mxn\u001b[0m\u001b[0;34m[\u001b[0m\u001b[0;34m-\u001b[0m\u001b[0;36m1\u001b[0m\u001b[0;34m]\u001b[0m\u001b[0;34m,\u001b[0m \u001b[0mr\u001b[0m\u001b[0;34m,\u001b[0m \u001b[0mK\u001b[0m\u001b[0;34m)\u001b[0m\u001b[0;34m)\u001b[0m\u001b[0;34m\u001b[0m\u001b[0;34m\u001b[0m\u001b[0m\n\u001b[0m\u001b[1;32m     11\u001b[0m \u001b[0;34m\u001b[0m\u001b[0m\n\u001b[1;32m     12\u001b[0m     \u001b[0mplt\u001b[0m\u001b[0;34m.\u001b[0m\u001b[0mplot\u001b[0m\u001b[0;34m(\u001b[0m\u001b[0mtt\u001b[0m\u001b[0;34m,\u001b[0m \u001b[0mxn\u001b[0m\u001b[0;34m,\u001b[0m \u001b[0mlabel\u001b[0m\u001b[0;34m=\u001b[0m\u001b[0;34m(\u001b[0m\u001b[0;34mf\"K = {K}\"\u001b[0m\u001b[0;34m)\u001b[0m\u001b[0;34m)\u001b[0m\u001b[0;34m\u001b[0m\u001b[0;34m\u001b[0m\u001b[0m\n",
            "\u001b[0;31mNameError\u001b[0m: name 'fu' is not defined"
          ]
        }
      ]
    },
    {
      "cell_type": "markdown",
      "source": [
        "При $x0 <  K$ довольно быстро члены последовательности становятся отрицательными и они не удовлетворяют области допустимых значений. При $x0 > K$ последовательность растет экспотенциально и уходит в бесконечность."
      ],
      "metadata": {
        "id": "s0RkazCZGazD"
      }
    },
    {
      "cell_type": "markdown",
      "source": [
        "## Вспышка численности насекомых\n",
        "\n",
        "Модель задается уравнением\n",
        "\n",
        "$$\n",
        "\\frac{dy}{dt} = ry(1 - \\frac{y}{K}) - \\frac{y^2}{1 + y^2} \\\\\n",
        "$$\n",
        "\n",
        "$K = 15$\n"
      ],
      "metadata": {
        "id": "1QWBMyNJU5YL"
      }
    },
    {
      "cell_type": "markdown",
      "source": [
        "2. Строим фазовое прастранство\n",
        "\n",
        "$$\n",
        "ry(1-\\frac{y}{K}) - \\frac{y^2}{1+y^2} = 0 \\\\\n",
        "r = \\frac{y}{(1+y^2)(1-\\frac{y}{K})} \\\\\n",
        "r = \\frac{Ky}{(1+y^2)(K-y)}\n",
        "$$"
      ],
      "metadata": {
        "id": "sWLzo-DmVdSE"
      }
    },
    {
      "cell_type": "code",
      "source": [
        "K = 15\n",
        "\n",
        "fy = lambda y, r, K: r*y*(1-y/K) - y**2/(1+y**2)\n",
        "fr = lambda y, K: K*y/((1+y**2)*(K-y))\n",
        "\n",
        "yy = np.linspace(-10, 30, 200)\n",
        "\n",
        "plt.figure(figsize=(10, 6))\n",
        "\n",
        "plt.plot(yy, fr(yy, K))\n",
        "#plt.legend()\n",
        "plt.xlabel('y - number')\n",
        "plt.ylabel('r - parameter')\n",
        "plt.hlines(0, -10, 30, color=\"grey\", linestyles=\"--\")\n",
        "#plt.ylim(-8, 15)\n",
        "None"
      ],
      "metadata": {
        "colab": {
          "base_uri": "https://localhost:8080/",
          "height": 388
        },
        "id": "0-8-N-QfWLN2",
        "outputId": "d52053b0-f76a-4ee1-ddd9-9d1a5c2015e3"
      },
      "execution_count": 70,
      "outputs": [
        {
          "output_type": "display_data",
          "data": {
            "text/plain": [
              "<Figure size 720x432 with 1 Axes>"
            ],
            "image/png": "[encoded data removed]"
          },
          "metadata": {
            "needs_background": "light"
          }
        }
      ]
    }
  ]
}